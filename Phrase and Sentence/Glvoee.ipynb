{
 "cells": [
  {
   "cell_type": "code",
   "execution_count": 5,
   "id": "9c28d26c",
   "metadata": {},
   "outputs": [],
   "source": [
    "import numpy as np"
   ]
  },
  {
   "cell_type": "code",
   "execution_count": 6,
   "id": "d40e1901",
   "metadata": {},
   "outputs": [],
   "source": [
    "def load_glove_model(glove_file):\n",
    "    model = {}\n",
    "    with open(glove_file, 'r', encoding='utf-8') as file:\n",
    "        for line in file:\n",
    "            split_line = line.split()\n",
    "            word = split_line[0]\n",
    "            embedding = np.array([float(val) for val in split_line[1:]])\n",
    "            model[word] = embedding\n",
    "    return model\n",
    "\n",
    "glove_model = load_glove_model(r\"C:\\Users\\sevan\\Desktop\\IIIT-H\\Phrase and Sentence\\glove.6B\\glove.6B.300d.txt\")\n"
   ]
  },
  {
   "cell_type": "code",
   "execution_count": 7,
   "id": "b7c89d4f",
   "metadata": {},
   "outputs": [],
   "source": [
    "from gensim.parsing.preprocessing import remove_stopwords, strip_punctuation\n",
    "\n",
    "def preprocess(text):\n",
    "    text = text.lower()  # Lowercase text\n",
    "    text = strip_punctuation(text)  # Remove punctuation\n",
    "    text = remove_stopwords(text)  # Remove stopwords\n",
    "    return text\n"
   ]
  },
  {
   "cell_type": "code",
   "execution_count": 10,
   "id": "9f2fd11f",
   "metadata": {},
   "outputs": [],
   "source": [
    "from scipy.spatial.distance import cosine\n",
    "\n",
    "def glove_sentence_vector(sentence, model):\n",
    "    words = sentence.split()\n",
    "    word_vectors = [model[word] for word in words if word in model]\n",
    "    if word_vectors:\n",
    "        return np.mean(word_vectors, axis=0)\n",
    "    else:\n",
    "        return np.zeros(next(iter(model.values())).shape)\n",
    "\n",
    "def glove_similarity(sentence1, sentence2, model):\n",
    "    vector1 = glove_sentence_vector(preprocess(sentence1), model)\n",
    "    vector2 = glove_sentence_vector(preprocess(sentence2), model)\n",
    "    return 1 - cosine(vector1, vector2)\n"
   ]
  },
  {
   "cell_type": "code",
   "execution_count": 13,
   "id": "28edee67",
   "metadata": {},
   "outputs": [
    {
     "name": "stdout",
     "output_type": "stream",
     "text": [
      "GloVe Similarity: 0.9551453934271589\n"
     ]
    }
   ],
   "source": [
    "sentence1 = \"According to one data, in 1910, on others – in 1915, the mansion became Natalya Dmitriyevna Shchuchkina's property.\"\n",
    "sentence2 = \"According to a particular statistic, in 1910, on others – in 1915, the mansion became Natalya Dmitriyevna Shchuchkina's property.\"\n",
    "print(\"GloVe Similarity:\", glove_similarity(sentence1, sentence2, glove_model))\n"
   ]
  },
  {
   "cell_type": "code",
   "execution_count": 14,
   "id": "ec2a3444",
   "metadata": {},
   "outputs": [],
   "source": [
    "from scipy.spatial.distance import cosine\n",
    "\n",
    "def calculate_cosine_similarity(vector1, vector2):\n",
    "    return 1 - cosine(vector1, vector2)\n"
   ]
  },
  {
   "cell_type": "code",
   "execution_count": 17,
   "id": "ea3bb139",
   "metadata": {},
   "outputs": [
    {
     "name": "stdout",
     "output_type": "stream",
     "text": [
      "Cosine Similarity: 0.9551453934271589\n"
     ]
    }
   ],
   "source": [
    "# Compute vectors for two sentences\n",
    "vector1 = glove_sentence_vector(preprocess(sentence1), glove_model)\n",
    "vector2 = glove_sentence_vector(preprocess(sentence2), glove_model)\n",
    "\n",
    "# Calculate cosine similarity\n",
    "similarity_score = calculate_cosine_similarity(vector1, vector2)\n",
    "print(\"Cosine Similarity:\", similarity_score)\n"
   ]
  },
  {
   "cell_type": "code",
   "execution_count": null,
   "id": "b08663f2",
   "metadata": {},
   "outputs": [],
   "source": []
  }
 ],
 "metadata": {
  "kernelspec": {
   "display_name": "Python 3 (ipykernel)",
   "language": "python",
   "name": "python3"
  },
  "language_info": {
   "codemirror_mode": {
    "name": "ipython",
    "version": 3
   },
   "file_extension": ".py",
   "mimetype": "text/x-python",
   "name": "python",
   "nbconvert_exporter": "python",
   "pygments_lexer": "ipython3",
   "version": "3.10.0"
  }
 },
 "nbformat": 4,
 "nbformat_minor": 5
}
