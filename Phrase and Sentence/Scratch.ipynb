{
 "cells": [
  {
   "cell_type": "code",
   "execution_count": 1,
   "id": "04e6534a",
   "metadata": {},
   "outputs": [],
   "source": [
    "from datasets import load_dataset\n",
    "\n",
    "# Load the dataset\n",
    "dataset = load_dataset(\"PiC/phrase_similarity\")\n"
   ]
  },
  {
   "cell_type": "code",
   "execution_count": 2,
   "id": "817d1df4",
   "metadata": {},
   "outputs": [],
   "source": [
    "import numpy as np\n",
    "\n",
    "# Define embedding size and vocabulary\n",
    "embedding_dim = 100\n",
    "vocab = set(word for data in dataset['train'] for sentence in (data['sentence1'], data['sentence2']) for word in sentence.split())\n",
    "word_to_index = {word: idx for idx, word in enumerate(vocab)}\n",
    "embeddings = np.random.rand(len(vocab), embedding_dim)\n",
    "\n",
    "def sentence_to_embedding(sentence):\n",
    "    words = sentence.lower().split()\n",
    "    word_embeddings = np.array([embeddings[word_to_index[word]] for word in words if word in word_to_index])\n",
    "    return np.mean(word_embeddings, axis=0) if len(word_embeddings) > 0 else np.zeros(embedding_dim)\n"
   ]
  },
  {
   "cell_type": "code",
   "execution_count": 3,
   "id": "ced0108e",
   "metadata": {},
   "outputs": [],
   "source": [
    "from sklearn.metrics.pairwise import cosine_similarity\n",
    "\n",
    "def calculate_similarity(sentence1, sentence2):\n",
    "    emb1 = sentence_to_embedding(sentence1)\n",
    "    emb2 = sentence_to_embedding(sentence2)\n",
    "    return cosine_similarity([emb1], [emb2])[0][0]\n"
   ]
  },
  {
   "cell_type": "code",
   "execution_count": 4,
   "id": "658cf3ce",
   "metadata": {},
   "outputs": [],
   "source": [
    "def prepare_data(dataset_split):\n",
    "    X = [calculate_similarity(data['sentence1'], data['sentence2']) for data in dataset_split]\n",
    "    y = [data['label'] for data in dataset_split]\n",
    "    return np.array(X).reshape(-1, 1), np.array(y)\n",
    "\n",
    "X_train, y_train = prepare_data(dataset['train'])\n",
    "X_val, y_val = prepare_data(dataset['validation'])\n"
   ]
  },
  {
   "cell_type": "code",
   "execution_count": 5,
   "id": "e51b7a32",
   "metadata": {},
   "outputs": [
    {
     "name": "stdout",
     "output_type": "stream",
     "text": [
      "Validation Accuracy: 0.5000\n"
     ]
    }
   ],
   "source": [
    "from sklearn.linear_model import LogisticRegression\n",
    "from sklearn.metrics import accuracy_score\n",
    "\n",
    "# Train the classifier\n",
    "classifier = LogisticRegression()\n",
    "classifier.fit(X_train, y_train)\n",
    "\n",
    "# Validate the classifier\n",
    "y_val_pred = classifier.predict(X_val)\n",
    "val_accuracy = accuracy_score(y_val, y_val_pred)\n",
    "print(f'Validation Accuracy: {val_accuracy:.4f}')\n"
   ]
  },
  {
   "cell_type": "code",
   "execution_count": 6,
   "id": "c47348c7",
   "metadata": {},
   "outputs": [
    {
     "name": "stdout",
     "output_type": "stream",
     "text": [
      "Test Accuracy: 0.5000\n"
     ]
    }
   ],
   "source": [
    "X_test, y_test = prepare_data(dataset['test'])\n",
    "y_test_pred = classifier.predict(X_test)\n",
    "test_accuracy = accuracy_score(y_test, y_test_pred)\n",
    "print(f'Test Accuracy: {test_accuracy:.4f}')\n"
   ]
  },
  {
   "cell_type": "code",
   "execution_count": 12,
   "id": "a71cca61",
   "metadata": {},
   "outputs": [
    {
     "name": "stdout",
     "output_type": "stream",
     "text": [
      "Cosine Similarity Score: 0.9975\n",
      "Predicted Label: Similar\n"
     ]
    }
   ],
   "source": [
    "def predict_similarity(sentence1, sentence2):\n",
    "    # Embedding the sentences\n",
    "    emb1 = sentence_to_embedding(sentence1)\n",
    "    emb2 = sentence_to_embedding(sentence2)\n",
    "    \n",
    "    # Calculating the cosine similarity\n",
    "    similarity_score = cosine_similarity([emb1], [emb2])[0][0]\n",
    "    \n",
    "    # Using the classifier to predict similarity\n",
    "    prediction = classifier.predict([[similarity_score]])[0]\n",
    "    predicted_label = \"Similar\" if prediction == 1 else \"Not Similar\"\n",
    "    \n",
    "    return {\n",
    "        \"Cosine Similarity Score\": similarity_score,\n",
    "        \"Predicted Label\": predicted_label\n",
    "    }\n",
    "\n",
    "# Example usage:\n",
    "sentence1 = \"A major criticism of litigation funding is that its cost is disproportionate to the risk accepted by litigation finance companies.\"\n",
    "sentence2 = \"A  Harsh outspoken discussion of litigation funding is that its cost is disproportionate to the risk accepted by litigation finance companies.\"\n",
    "result = predict_similarity(sentence1, sentence2)\n",
    "print(f\"Cosine Similarity Score: {result['Cosine Similarity Score']:.4f}\")\n",
    "print(f\"Predicted Label: {result['Predicted Label']}\")\n"
   ]
  },
  {
   "cell_type": "code",
   "execution_count": null,
   "id": "4dc1dde8",
   "metadata": {},
   "outputs": [],
   "source": []
  }
 ],
 "metadata": {
  "kernelspec": {
   "display_name": "Python 3 (ipykernel)",
   "language": "python",
   "name": "python3"
  },
  "language_info": {
   "codemirror_mode": {
    "name": "ipython",
    "version": 3
   },
   "file_extension": ".py",
   "mimetype": "text/x-python",
   "name": "python",
   "nbconvert_exporter": "python",
   "pygments_lexer": "ipython3",
   "version": "3.10.0"
  }
 },
 "nbformat": 4,
 "nbformat_minor": 5
}
