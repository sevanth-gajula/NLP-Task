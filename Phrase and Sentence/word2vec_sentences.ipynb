{
 "cells": [
  {
   "cell_type": "code",
   "execution_count": null,
   "id": "c3de9243",
   "metadata": {},
   "outputs": [],
   "source": [
    "import pandas as pd\n",
    "from gensim.models import KeyedVectors\n",
    "\n",
    "# Load the dataset\n",
    "df = pd.read_parquet(r\"C:\\Users\\sevan\\Desktop\\IIIT-H\\Phrase and Sentence\\0000.parquet\")\n",
    "\n",
    "# Load Word2Vec model\n",
    "model = KeyedVectors.load_word2vec_format(r'C:\\Users\\sevan\\Desktop\\IIIT-H\\Phrase and Sentence\\GoogleNews-vectors-negative300.bin', binary=True)\n"
   ]
  },
  {
   "cell_type": "code",
   "execution_count": 2,
   "id": "1dce4b0b",
   "metadata": {},
   "outputs": [],
   "source": [
    "from gensim.parsing.preprocessing import remove_stopwords, strip_punctuation\n",
    "\n",
    "def preprocess(text):\n",
    "    text = text.lower()  # Lowercase text\n",
    "    text = strip_punctuation(text)  # Remove punctuation\n",
    "    text = remove_stopwords(text)  # Remove stopwords\n",
    "    return text\n"
   ]
  },
  {
   "cell_type": "code",
   "execution_count": 3,
   "id": "1e5f3944",
   "metadata": {},
   "outputs": [],
   "source": [
    "import numpy as np\n",
    "\n",
    "def sentence_vector(sentence):\n",
    "    words = sentence.split()\n",
    "    word_vectors = [model[word] for word in words if word in model]\n",
    "    if word_vectors:\n",
    "        return np.mean(word_vectors, axis=0)\n",
    "    else:\n",
    "        return np.zeros(model.vector_size)\n"
   ]
  },
  {
   "cell_type": "code",
   "execution_count": 4,
   "id": "4d063fd8",
   "metadata": {},
   "outputs": [],
   "source": [
    "from scipy.spatial.distance import cosine\n",
    "\n",
    "def similarity(sentence1, sentence2):\n",
    "    vector1 = sentence_vector(preprocess(sentence1))\n",
    "    vector2 = sentence_vector(preprocess(sentence2))\n",
    "    return 1 - cosine(vector1, vector2)\n"
   ]
  },
  {
   "cell_type": "code",
   "execution_count": 12,
   "id": "778a64e1",
   "metadata": {},
   "outputs": [
    {
     "name": "stdout",
     "output_type": "stream",
     "text": [
      "Similarity: 0.835387110710144\n"
     ]
    }
   ],
   "source": [
    "sentence1 = df.iloc[1]['sentence1']\n",
    "sentence2 = df.iloc[1]['sentence2']\n",
    "print(\"Similarity:\", similarity(sentence1, sentence2))\n"
   ]
  },
  {
   "cell_type": "code",
   "execution_count": 8,
   "id": "2f31b784",
   "metadata": {},
   "outputs": [
    {
     "name": "stdout",
     "output_type": "stream",
     "text": [
      "Similarity: 0.6001744866371155\n"
     ]
    }
   ],
   "source": [
    "phrase1 = df.iloc[2]['phrase1']\n",
    "phrase2 = df.iloc[2]['phrase2']\n",
    "print(\"Similarity:\", similarity(phrase1, phrase2))\n"
   ]
  },
  {
   "cell_type": "code",
   "execution_count": 7,
   "id": "5084e343",
   "metadata": {},
   "outputs": [
    {
     "name": "stdout",
     "output_type": "stream",
     "text": [
      "Similarity: 0.0701400563120842\n"
     ]
    }
   ],
   "source": [
    "phrase1 = \"The fruit is tasty\"\n",
    "phrase2 =  \"The student is disciplined\"\n",
    "print(\"Similarity:\", similarity(phrase1, phrase2))\n"
   ]
  },
  {
   "cell_type": "code",
   "execution_count": 15,
   "id": "3268fddb",
   "metadata": {},
   "outputs": [
    {
     "name": "stdout",
     "output_type": "stream",
     "text": [
      "Similarity: 0.914287269115448\n"
     ]
    }
   ],
   "source": [
    "phrase1 = \"A quick brown Fox\"\n",
    "phrase2 =  \"A fast brown Fox\"\n",
    "print(\"Similarity:\", similarity(phrase1, phrase2))\n"
   ]
  },
  {
   "cell_type": "code",
   "execution_count": 18,
   "id": "221eeac7",
   "metadata": {},
   "outputs": [
    {
     "name": "stdout",
     "output_type": "stream",
     "text": [
      "Similarity: 0.3869445323944092\n"
     ]
    }
   ],
   "source": [
    "phrase1 = \"Cryptocurrency is a burgeoning financial sector\"\n",
    "phrase2 =  \"Blockchain technology innovates digital transactions.\"\n",
    "print(\"Similarity:\", similarity(phrase1, phrase2))\n"
   ]
  },
  {
   "cell_type": "code",
   "execution_count": 20,
   "id": "a9683272",
   "metadata": {},
   "outputs": [
    {
     "name": "stdout",
     "output_type": "stream",
     "text": [
      "Similarity: 0.1335873305797577\n"
     ]
    }
   ],
   "source": [
    "phrase1 = \"She is an adept heliophilist\"\n",
    "phrase2 =  \"She loves sunbathing during summer.\"\n",
    "print(\"Similarity:\", similarity(phrase1, phrase2))\n"
   ]
  },
  {
   "cell_type": "code",
   "execution_count": 21,
   "id": "9e8fceea",
   "metadata": {},
   "outputs": [
    {
     "name": "stdout",
     "output_type": "stream",
     "text": [
      "Similarity: 0.518367350101471\n"
     ]
    }
   ],
   "source": [
    "phrase1 = \"Great, another rainy day.\"\n",
    "phrase2 =  \"Oh, I just love these gloomy days.\"\n",
    "print(\"Similarity:\", similarity(phrase1, phrase2))\n"
   ]
  },
  {
   "cell_type": "code",
   "execution_count": 22,
   "id": "55d70b67",
   "metadata": {},
   "outputs": [
    {
     "name": "stdout",
     "output_type": "stream",
     "text": [
      "Similarity: 0.6248317360877991\n"
     ]
    }
   ],
   "source": [
    "phrase1 = \"He went to the bank to fish.\"\n",
    "phrase2 =  \"He went to the bank to withdraw money.\"\n",
    "print(\"Similarity:\", similarity(phrase1, phrase2))\n"
   ]
  },
  {
   "cell_type": "code",
   "execution_count": 23,
   "id": "14c99577",
   "metadata": {},
   "outputs": [
    {
     "name": "stdout",
     "output_type": "stream",
     "text": [
      "Similarity: 0.9418182373046875\n"
     ]
    }
   ],
   "source": [
    "phrase1 = \"She quickly solved the puzzle.\"\n",
    "phrase2 =  \"Rapidly, she solved the puzzle.\"\n",
    "print(\"Similarity:\", similarity(phrase1, phrase2))\n"
   ]
  },
  {
   "cell_type": "code",
   "execution_count": 24,
   "id": "e903c941",
   "metadata": {},
   "outputs": [
    {
     "name": "stdout",
     "output_type": "stream",
     "text": [
      "Similarity: 1\n"
     ]
    }
   ],
   "source": [
    "phrase1 = \"Check out\"\n",
    "phrase2 =  \"Check this out\"\n",
    "print(\"Similarity:\", similarity(phrase1, phrase2))\n"
   ]
  },
  {
   "cell_type": "code",
   "execution_count": 25,
   "id": "b65d4418",
   "metadata": {},
   "outputs": [
    {
     "name": "stdout",
     "output_type": "stream",
     "text": [
      "Similarity: 0.3357202410697937\n"
     ]
    }
   ],
   "source": [
    "phrase1 = \"She pulled a Hermione in class today.\"\n",
    "phrase2 =  \"She answered all the questions correctly in class.\"\n",
    "print(\"Similarity:\", similarity(phrase1, phrase2))\n"
   ]
  },
  {
   "cell_type": "code",
   "execution_count": null,
   "id": "4d98e7fa",
   "metadata": {},
   "outputs": [],
   "source": []
  }
 ],
 "metadata": {
  "kernelspec": {
   "display_name": "Python 3 (ipykernel)",
   "language": "python",
   "name": "python3"
  },
  "language_info": {
   "codemirror_mode": {
    "name": "ipython",
    "version": 3
   },
   "file_extension": ".py",
   "mimetype": "text/x-python",
   "name": "python",
   "nbconvert_exporter": "python",
   "pygments_lexer": "ipython3",
   "version": "3.10.0"
  }
 },
 "nbformat": 4,
 "nbformat_minor": 5
}
