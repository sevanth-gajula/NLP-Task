{
 "cells": [
  {
   "cell_type": "code",
   "execution_count": 4,
   "id": "666d2fb8",
   "metadata": {},
   "outputs": [
    {
     "name": "stdout",
     "output_type": "stream",
     "text": [
      "The cosine similarity between 'smart' and 'intelligent' is: 0.7765865921974182\n"
     ]
    }
   ],
   "source": [
    "import numpy as np\n",
    "\n",
    "def load_glove_model(glove_file_path):\n",
    "    embeddings_index = {}\n",
    "    with open(glove_file_path, 'r', encoding='utf-8') as f:\n",
    "        for line in f:\n",
    "            values = line.split()\n",
    "            word = values[0]\n",
    "            vector = np.asarray(values[1:], dtype='float32')\n",
    "            embeddings_index[word] = vector\n",
    "    return embeddings_index\n",
    "\n",
    "def cosine_similarity(vec1, vec2):\n",
    "    return np.dot(vec1, vec2) / (np.linalg.norm(vec1) * np.linalg.norm(vec2))\n",
    "\n",
    "# Path to your GloVe file\n",
    "glove_file = r\"C:\\Users\\sevan\\Desktop\\IIIT-H\\Phrase and Sentence\\glove.6B\\glove.6B.50d.txt\"\n",
    "\n",
    "# Load GloVe model\n",
    "embeddings = load_glove_model(glove_file)\n",
    "\n",
    "# Words you want to compare\n",
    "word1 = 'smart'\n",
    "word2 = 'intelligent'\n",
    "\n",
    "# Ensure words are in the embeddings dictionary\n",
    "if word1 in embeddings and word2 in embeddings:\n",
    "    similarity = cosine_similarity(embeddings[word1], embeddings[word2])\n",
    "    print(f\"The cosine similarity between '{word1}' and '{word2}' is: {similarity}\")\n",
    "else:\n",
    "    print(\"One or both words not found in the embeddings.\")\n"
   ]
  },
  {
   "cell_type": "code",
   "execution_count": null,
   "id": "ba85c4ce",
   "metadata": {},
   "outputs": [],
   "source": []
  }
 ],
 "metadata": {
  "kernelspec": {
   "display_name": "Python 3 (ipykernel)",
   "language": "python",
   "name": "python3"
  },
  "language_info": {
   "codemirror_mode": {
    "name": "ipython",
    "version": 3
   },
   "file_extension": ".py",
   "mimetype": "text/x-python",
   "name": "python",
   "nbconvert_exporter": "python",
   "pygments_lexer": "ipython3",
   "version": "3.10.0"
  }
 },
 "nbformat": 4,
 "nbformat_minor": 5
}
